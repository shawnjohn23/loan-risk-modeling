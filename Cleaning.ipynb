{
 "cells": [
  {
   "cell_type": "code",
   "execution_count": 4,
   "id": "b45fb3d1-4e3c-4b30-84e7-c1adc7ea7846",
   "metadata": {},
   "outputs": [],
   "source": [
    "import pandas as pd\n",
    "import numpy as np"
   ]
  },
  {
   "cell_type": "code",
   "execution_count": null,
   "id": "4f98bd6d-b90d-465f-adf9-a219a036d13c",
   "metadata": {},
   "outputs": [],
   "source": [
    "data = 'accepted_2007_to_2018Q4.csv'"
   ]
  },
  {
   "cell_type": "code",
   "execution_count": null,
   "id": "0111bee3-acbc-4c36-9a9e-09fd1adcd815",
   "metadata": {},
   "outputs": [],
   "source": [
    "data = pd.read_csv(data, low_memory=False)"
   ]
  },
  {
   "cell_type": "code",
   "execution_count": null,
   "id": "b4d0caed-0d66-4508-b552-62f632d01c10",
   "metadata": {},
   "outputs": [],
   "source": [
    "data.head()"
   ]
  },
  {
   "cell_type": "code",
   "execution_count": null,
   "id": "4bb36148-bdb8-4580-8833-f6af635a43c6",
   "metadata": {},
   "outputs": [],
   "source": [
    "# Set your NA threshold (e.g., remove columns with more than 50% missing)\n",
    "threshold = 0.3\n",
    "na_fraction = upsampled.isnull().mean()\n",
    "\n",
    "# Drop columns above the threshold\n",
    "upsampled_cleaned = upsampled.drop(columns=na_fraction[na_fraction > threshold].index)\n",
    "\n",
    "# Preview cleaned DataFrame\n",
    "print(upsampled_cleaned.shape)\n",
    "print(upsampled_cleaned.head())\n"
   ]
  },
  {
   "cell_type": "code",
   "execution_count": null,
   "id": "bcd0e1a8-2364-464c-aecd-17ca8228f224",
   "metadata": {},
   "outputs": [],
   "source": [
    "\n",
    "print(f\"After dropna: {upsampled_cleaned.shape}\")"
   ]
  },
  {
   "cell_type": "code",
   "execution_count": null,
   "id": "dea08c59-b2f8-4be3-a89c-bc3ec0a42910",
   "metadata": {},
   "outputs": [],
   "source": [
    "# Drop them from your DataFrame\n",
    "columns_to_drop = ['emp_title', 'sub_grade']\n",
    "upsampled_cleaned = upsampled_cleaned.drop(columns=columns_to_drop)\n",
    "\n",
    "# Preview the cleaned DataFrame\n",
    "print(upsampled_cleaned.head())\n"
   ]
  },
  {
   "cell_type": "code",
   "execution_count": null,
   "id": "ab92c097-0da5-4bfe-844a-b953618d0e64",
   "metadata": {},
   "outputs": [],
   "source": [
    "# ✅ Convert 'Y'/'N' columns to 1/0\n",
    "yn_cols = ['debt_settlement_flag', 'hardship_flag']  # Add more columns if needed\n",
    "for col in yn_cols:\n",
    "    upsampled_cleaned[col] = upsampled_cleaned[col].map({'Y': 1, 'N': 0})\n",
    "\n",
    "# 💳 Convert 'disbursement_method' to binary (Cash = 1, others = 0)\n",
    "upsampled_cleaned['disbursement_method'] = (upsampled_cleaned['disbursement_method'] == 'Cash').astype(int)\n",
    "upsampled_cleaned['home_ownership'] = (upsampled_cleaned['home_ownership'] == 'MORTGAGE').astype(int)\n",
    "\n",
    "# 📅 Convert 'emp_length' like '10+ years', '< 1 year', 'n/a' to numeric\n",
    "def clean_emp_length(val):\n",
    "    if pd.isna(val): return np.nan\n",
    "    val = str(val).lower().strip()\n",
    "    if '<' in val: return 0\n",
    "    if '10+' in val: return 10\n",
    "    if 'n/a' in val: return np.nan\n",
    "    digits = ''.join(filter(str.isdigit, val))\n",
    "    return int(digits) if digits else np.nan\n",
    "\n",
    "upsampled_cleaned['emp_length'] = upsampled_cleaned['emp_length'].apply(clean_emp_length)\n",
    "# Remove 'months' and convert to integer\n",
    "upsampled_cleaned['term'] = upsampled_cleaned['term'].str.extract('(\\d+)').astype(int)\n",
    "\n",
    "\n"
   ]
  },
  {
   "cell_type": "code",
   "execution_count": null,
   "id": "f97b0a19-9999-4e6f-a776-3996a5ab0be3",
   "metadata": {},
   "outputs": [],
   "source": [
    "# 🅰️ Map loan grade (A-G) to integers\n",
    "grade_map = {'A': 1, 'B': 2, 'C': 3, 'D': 4, 'E': 5, 'F': 6, 'G': 7}\n",
    "upsampled_cleaned['grade_num'] = upsampled_cleaned['grade'].map(grade_map)\n",
    "upsampled_cleaned = upsampled_cleaned.drop(columns='grade')"
   ]
  },
  {
   "cell_type": "code",
   "execution_count": null,
   "id": "bbce81af-4a66-408c-bbcc-0774b5e3396a",
   "metadata": {},
   "outputs": [],
   "source": [
    "# Drop the last two rows of the DataFrame\n",
    "upsampled_cleaned = upsampled_cleaned.iloc[:-2]"
   ]
  },
  {
   "cell_type": "code",
   "execution_count": null,
   "id": "f7923d61-e713-434a-aff1-8242558cd8e5",
   "metadata": {},
   "outputs": [],
   "source": [
    "# Extract numeric part and convert safely\n",
    "\n",
    "#upsampled_cleaned['term'] = upsampled_cleaned['term'].str.extract('(\\d+)')\n",
    "upsampled_cleaned['term'] = upsampled_cleaned['term'].astype('Int64')  # Capital I!"
   ]
  },
  {
   "cell_type": "code",
   "execution_count": null,
   "id": "7d4953bc-2173-41b9-9e03-fa6414febeba",
   "metadata": {},
   "outputs": [],
   "source": [
    "print(upsampled_cleaned.head())"
   ]
  },
  {
   "cell_type": "code",
   "execution_count": null,
   "id": "72942aad-1361-43bc-bbf3-7687b12dc2b2",
   "metadata": {},
   "outputs": [],
   "source": [
    "summary = pd.DataFrame({\n",
    "    'dtype': upsampled_cleaned.dtypes,\n",
    "    'missing_frac': upsampled_cleaned.isnull().mean()\n",
    "})\n",
    "print(summary.sort_values('missing_frac', ascending=False))\n"
   ]
  },
  {
   "cell_type": "code",
   "execution_count": null,
   "id": "50e3d7b7-3bee-445e-b6d0-bbb7228c0cb1",
   "metadata": {},
   "outputs": [],
   "source": [
    "print(upsampled_cleaned['loan_status'].head())"
   ]
  },
  {
   "cell_type": "code",
   "execution_count": null,
   "id": "ddea057d-543e-44ea-a1d4-a52a8f887ecf",
   "metadata": {},
   "outputs": [],
   "source": [
    "upsampled_cleaned_targeted = upsampled_cleaned\n",
    "upsampled_cleaned_targeted['loan_status'] = upsampled_cleaned['loan_status'].str.strip().str.lower()\n",
    "upsampled_cleaned_targeted.head()"
   ]
  },
  {
   "cell_type": "code",
   "execution_count": null,
   "id": "e890e769-3317-4e2b-9ef1-0d2e1f32d5c6",
   "metadata": {},
   "outputs": [],
   "source": [
    "# Define default statuses\n",
    "default_statuses = [\n",
    "    'charged off',\n",
    "    'default',\n",
    "    'does not meet the credit policy. status:charged off'\n",
    "]\n",
    "\n",
    "non_default_statuses = [\n",
    "    'fully paid',\n",
    "    'does not meet the credit policy. status:fully paid'\n",
    "]\n",
    "# Filter to only default/non-default loans\n",
    "upsampled_cleaned_targeted = upsampled_cleaned_targeted[upsampled_cleaned['loan_status'].isin(default_statuses + non_default_statuses)].copy()\n",
    "\n",
    "# Create binary target\n",
    "upsampled_cleaned_targeted['is_default'] = upsampled_cleaned_targeted['loan_status'].isin(default_statuses).astype(int)\n",
    "\n",
    "# Check the distribution\n",
    "print(upsampled_cleaned_targeted['is_default'].value_counts(normalize=True))\n"
   ]
  },
  {
   "cell_type": "code",
   "execution_count": null,
   "id": "e4e10961-313b-4582-a954-6c530e2680d1",
   "metadata": {},
   "outputs": [],
   "source": [
    "# Keep only numeric (int, float, bool) columns\n",
    "numeric_df = upsampled_cleaned_targeted.select_dtypes(include=['number', 'bool'])\n",
    "\n",
    "# View remaining columns\n",
    "\n"
   ]
  },
  {
   "cell_type": "code",
   "execution_count": null,
   "id": "88556e52-035c-4217-8d63-10a04242e12e",
   "metadata": {},
   "outputs": [],
   "source": [
    "print(numeric_df)"
   ]
  },
  {
   "cell_type": "code",
   "execution_count": null,
   "id": "35428a5a-0648-48ac-a0ff-8ddb803243d7",
   "metadata": {},
   "outputs": [],
   "source": [
    "# Save cleaned dataset to CSV\n",
    "numeric_df.to_csv('Kaggle_full_cleaned_dataset.csv', index=False)\n",
    "\n",
    "# Optional: confirm save\n",
    "print(\"Saved cleaned dataset with shape:\", upsampled_cleaned.shape)\n"
   ]
  },
  {
   "cell_type": "code",
   "execution_count": null,
   "id": "4beef9f7-66d2-4613-8e8c-08db0f6ef612",
   "metadata": {},
   "outputs": [],
   "source": [
    "# Selecting only the most common variables"
   ]
  },
  {
   "cell_type": "code",
   "execution_count": 18,
   "id": "ff76afe5-f690-444b-912d-ebfbe45378d1",
   "metadata": {},
   "outputs": [],
   "source": [
    "data = pd.read_csv('Kaggle_full_cleaned_dataset.csv')"
   ]
  },
  {
   "cell_type": "code",
   "execution_count": 20,
   "id": "60d432fd-01af-4167-9d50-ead97501d8ab",
   "metadata": {},
   "outputs": [],
   "source": [
    "# Define Tier 1 features\n",
    "tier_1_features = [\n",
    "    'int_rate'\n",
    "    'loan_amnt',\n",
    "    'funded_amnt',\n",
    "    'term',\n",
    "    'installment',\n",
    "    'annual_inc',\n",
    "    'dti',\n",
    "    'emp_length',\n",
    "    'home_ownership',\n",
    "    'fico_range_low',\n",
    "    'fico_range_high',\n",
    "    'inq_last_6mths',\n",
    "    'open_acc',\n",
    "    'pub_rec',\n",
    "    'revol_bal',\n",
    "    'revol_util',\n",
    "    'total_acc',\n",
    "    'is_default'\n",
    "]\n",
    "\n",
    "# Create new DataFrame with only Tier 1 features (if present in your data)\n",
    "tier_1_df = data[[col for col in tier_1_features if col in data.columns]]\n",
    "\n",
    "# Optional: save to CSV\n",
    "tier_1_df.to_csv(\"tier_1_features_only.csv\", index=False)\n"
   ]
  },
  {
   "cell_type": "code",
   "execution_count": null,
   "id": "573c2bae-6962-4366-822c-28b54211a365",
   "metadata": {},
   "outputs": [],
   "source": []
  }
 ],
 "metadata": {
  "kernelspec": {
   "display_name": "Python [conda env:base] *",
   "language": "python",
   "name": "conda-base-py"
  },
  "language_info": {
   "codemirror_mode": {
    "name": "ipython",
    "version": 3
   },
   "file_extension": ".py",
   "mimetype": "text/x-python",
   "name": "python",
   "nbconvert_exporter": "python",
   "pygments_lexer": "ipython3",
   "version": "3.12.7"
  }
 },
 "nbformat": 4,
 "nbformat_minor": 5
}
