{
 "cells": [
  {
   "cell_type": "code",
   "execution_count": 3,
   "id": "25ad2c07-f28c-433e-99d5-ff1fedb6298c",
   "metadata": {},
   "outputs": [],
   "source": [
    "import pandas as pd\n",
    "import numpy as np\n",
    "import seaborn as sns\n",
    "import matplotlib.pyplot as plt"
   ]
  },
  {
   "cell_type": "code",
   "execution_count": 63,
   "id": "3ff2277b-5125-4927-a6e5-792df56284a2",
   "metadata": {},
   "outputs": [
    {
     "data": {
      "text/html": [
       "<div>\n",
       "<style scoped>\n",
       "    .dataframe tbody tr th:only-of-type {\n",
       "        vertical-align: middle;\n",
       "    }\n",
       "\n",
       "    .dataframe tbody tr th {\n",
       "        vertical-align: top;\n",
       "    }\n",
       "\n",
       "    .dataframe thead th {\n",
       "        text-align: right;\n",
       "    }\n",
       "</style>\n",
       "<table border=\"1\" class=\"dataframe\">\n",
       "  <thead>\n",
       "    <tr style=\"text-align: right;\">\n",
       "      <th></th>\n",
       "      <th>id</th>\n",
       "      <th>member_id</th>\n",
       "      <th>loan_amnt</th>\n",
       "      <th>funded_amnt</th>\n",
       "      <th>funded_amnt_inv</th>\n",
       "      <th>term</th>\n",
       "      <th>int_rate</th>\n",
       "      <th>installment</th>\n",
       "      <th>grade</th>\n",
       "      <th>sub_grade</th>\n",
       "      <th>...</th>\n",
       "      <th>hardship_last_payment_amount</th>\n",
       "      <th>disbursement_method</th>\n",
       "      <th>debt_settlement_flag</th>\n",
       "      <th>debt_settlement_flag_date</th>\n",
       "      <th>settlement_status</th>\n",
       "      <th>settlement_date</th>\n",
       "      <th>settlement_amount</th>\n",
       "      <th>settlement_percentage</th>\n",
       "      <th>settlement_term</th>\n",
       "      <th>is_default</th>\n",
       "    </tr>\n",
       "  </thead>\n",
       "  <tbody>\n",
       "    <tr>\n",
       "      <th>0</th>\n",
       "      <td>68407277</td>\n",
       "      <td>NaN</td>\n",
       "      <td>3600.0</td>\n",
       "      <td>3600.0</td>\n",
       "      <td>3600.0</td>\n",
       "      <td>36 months</td>\n",
       "      <td>13.99</td>\n",
       "      <td>123.03</td>\n",
       "      <td>C</td>\n",
       "      <td>C4</td>\n",
       "      <td>...</td>\n",
       "      <td>NaN</td>\n",
       "      <td>Cash</td>\n",
       "      <td>N</td>\n",
       "      <td>NaN</td>\n",
       "      <td>NaN</td>\n",
       "      <td>NaN</td>\n",
       "      <td>NaN</td>\n",
       "      <td>NaN</td>\n",
       "      <td>NaN</td>\n",
       "      <td>0</td>\n",
       "    </tr>\n",
       "    <tr>\n",
       "      <th>1</th>\n",
       "      <td>68355089</td>\n",
       "      <td>NaN</td>\n",
       "      <td>24700.0</td>\n",
       "      <td>24700.0</td>\n",
       "      <td>24700.0</td>\n",
       "      <td>36 months</td>\n",
       "      <td>11.99</td>\n",
       "      <td>820.28</td>\n",
       "      <td>C</td>\n",
       "      <td>C1</td>\n",
       "      <td>...</td>\n",
       "      <td>NaN</td>\n",
       "      <td>Cash</td>\n",
       "      <td>N</td>\n",
       "      <td>NaN</td>\n",
       "      <td>NaN</td>\n",
       "      <td>NaN</td>\n",
       "      <td>NaN</td>\n",
       "      <td>NaN</td>\n",
       "      <td>NaN</td>\n",
       "      <td>0</td>\n",
       "    </tr>\n",
       "    <tr>\n",
       "      <th>2</th>\n",
       "      <td>68341763</td>\n",
       "      <td>NaN</td>\n",
       "      <td>20000.0</td>\n",
       "      <td>20000.0</td>\n",
       "      <td>20000.0</td>\n",
       "      <td>60 months</td>\n",
       "      <td>10.78</td>\n",
       "      <td>432.66</td>\n",
       "      <td>B</td>\n",
       "      <td>B4</td>\n",
       "      <td>...</td>\n",
       "      <td>NaN</td>\n",
       "      <td>Cash</td>\n",
       "      <td>N</td>\n",
       "      <td>NaN</td>\n",
       "      <td>NaN</td>\n",
       "      <td>NaN</td>\n",
       "      <td>NaN</td>\n",
       "      <td>NaN</td>\n",
       "      <td>NaN</td>\n",
       "      <td>0</td>\n",
       "    </tr>\n",
       "    <tr>\n",
       "      <th>3</th>\n",
       "      <td>68476807</td>\n",
       "      <td>NaN</td>\n",
       "      <td>10400.0</td>\n",
       "      <td>10400.0</td>\n",
       "      <td>10400.0</td>\n",
       "      <td>60 months</td>\n",
       "      <td>22.45</td>\n",
       "      <td>289.91</td>\n",
       "      <td>F</td>\n",
       "      <td>F1</td>\n",
       "      <td>...</td>\n",
       "      <td>NaN</td>\n",
       "      <td>Cash</td>\n",
       "      <td>N</td>\n",
       "      <td>NaN</td>\n",
       "      <td>NaN</td>\n",
       "      <td>NaN</td>\n",
       "      <td>NaN</td>\n",
       "      <td>NaN</td>\n",
       "      <td>NaN</td>\n",
       "      <td>0</td>\n",
       "    </tr>\n",
       "    <tr>\n",
       "      <th>4</th>\n",
       "      <td>68426831</td>\n",
       "      <td>NaN</td>\n",
       "      <td>11950.0</td>\n",
       "      <td>11950.0</td>\n",
       "      <td>11950.0</td>\n",
       "      <td>36 months</td>\n",
       "      <td>13.44</td>\n",
       "      <td>405.18</td>\n",
       "      <td>C</td>\n",
       "      <td>C3</td>\n",
       "      <td>...</td>\n",
       "      <td>NaN</td>\n",
       "      <td>Cash</td>\n",
       "      <td>N</td>\n",
       "      <td>NaN</td>\n",
       "      <td>NaN</td>\n",
       "      <td>NaN</td>\n",
       "      <td>NaN</td>\n",
       "      <td>NaN</td>\n",
       "      <td>NaN</td>\n",
       "      <td>0</td>\n",
       "    </tr>\n",
       "  </tbody>\n",
       "</table>\n",
       "<p>5 rows × 152 columns</p>\n",
       "</div>"
      ],
      "text/plain": [
       "         id  member_id  loan_amnt  funded_amnt  funded_amnt_inv        term  \\\n",
       "0  68407277        NaN     3600.0       3600.0           3600.0   36 months   \n",
       "1  68355089        NaN    24700.0      24700.0          24700.0   36 months   \n",
       "2  68341763        NaN    20000.0      20000.0          20000.0   60 months   \n",
       "3  68476807        NaN    10400.0      10400.0          10400.0   60 months   \n",
       "4  68426831        NaN    11950.0      11950.0          11950.0   36 months   \n",
       "\n",
       "   int_rate  installment grade sub_grade  ... hardship_last_payment_amount  \\\n",
       "0     13.99       123.03     C        C4  ...                          NaN   \n",
       "1     11.99       820.28     C        C1  ...                          NaN   \n",
       "2     10.78       432.66     B        B4  ...                          NaN   \n",
       "3     22.45       289.91     F        F1  ...                          NaN   \n",
       "4     13.44       405.18     C        C3  ...                          NaN   \n",
       "\n",
       "  disbursement_method debt_settlement_flag  debt_settlement_flag_date  \\\n",
       "0                Cash                    N                        NaN   \n",
       "1                Cash                    N                        NaN   \n",
       "2                Cash                    N                        NaN   \n",
       "3                Cash                    N                        NaN   \n",
       "4                Cash                    N                        NaN   \n",
       "\n",
       "  settlement_status settlement_date settlement_amount settlement_percentage  \\\n",
       "0               NaN             NaN               NaN                   NaN   \n",
       "1               NaN             NaN               NaN                   NaN   \n",
       "2               NaN             NaN               NaN                   NaN   \n",
       "3               NaN             NaN               NaN                   NaN   \n",
       "4               NaN             NaN               NaN                   NaN   \n",
       "\n",
       "  settlement_term is_default  \n",
       "0             NaN          0  \n",
       "1             NaN          0  \n",
       "2             NaN          0  \n",
       "3             NaN          0  \n",
       "4             NaN          0  \n",
       "\n",
       "[5 rows x 152 columns]"
      ]
     },
     "execution_count": 63,
     "metadata": {},
     "output_type": "execute_result"
    }
   ],
   "source": [
    "df = pd.read_csv(\"cleaned_data.csv\", low_memory=False)\n",
    "\n",
    "# Display the first few rows\n",
    "df.head()"
   ]
  },
  {
   "cell_type": "code",
   "execution_count": 65,
   "id": "f4534042-331f-4454-a117-bcf5671b1ccf",
   "metadata": {},
   "outputs": [
    {
     "name": "stdout",
     "output_type": "stream",
     "text": [
      "int_rate            0\n",
      "fico_range_low      0\n",
      "annual_inc          4\n",
      "loan_amnt           0\n",
      "dti               374\n",
      "dtype: int64\n"
     ]
    }
   ],
   "source": [
    "#df = df[df['is_default'].notnull()]\n",
    "features = ['int_rate', 'fico_range_low', 'annual_inc', 'loan_amnt', 'dti']\n",
    "print(df[features].isnull().sum())\n"
   ]
  },
  {
   "cell_type": "markdown",
   "id": "056e5832-bb2d-45a5-97e2-72e98a835f3d",
   "metadata": {},
   "source": [
    "for col in features:\n",
    "    df[f'{col}_missing'] = df[col].isnull().astype(int)\n",
    "\n",
    "This code may be used later to flag unites that have missing values before the values are mutated to add an aditional feature for pattern recognition. Maybe the missing data tells us more than if it were there. \n"
   ]
  },
  {
   "cell_type": "code",
   "execution_count": 19,
   "id": "792c3948-f720-4b3e-b6d4-726ccc0864e6",
   "metadata": {},
   "outputs": [],
   "source": [
    "from sklearn.impute import SimpleImputer\n",
    "import numpy as np\n",
    "\n",
    "imputer = SimpleImputer(strategy='median')\n",
    "\n",
    "X = imputer.fit_transform(df[features])\n",
    "y = df['is_default'].values\n"
   ]
  },
  {
   "cell_type": "code",
   "execution_count": 21,
   "id": "d89b2bf3-5d09-48b1-b287-2e0cf862992e",
   "metadata": {},
   "outputs": [],
   "source": [
    "from sklearn.model_selection import train_test_split\n",
    "\n",
    "X_train, X_test, y_train, y_test = train_test_split(\n",
    "    X, y, test_size=0.3, random_state=42, stratify=y)\n"
   ]
  },
  {
   "cell_type": "code",
   "execution_count": 23,
   "id": "5bde9647-4644-4f22-9d8c-a187748d8bb0",
   "metadata": {},
   "outputs": [
    {
     "name": "stdout",
     "output_type": "stream",
     "text": [
      "              precision    recall  f1-score   support\n",
      "\n",
      "           0       0.81      0.99      0.89    323622\n",
      "           1       0.50      0.06      0.10     80808\n",
      "\n",
      "    accuracy                           0.80    404430\n",
      "   macro avg       0.65      0.52      0.49    404430\n",
      "weighted avg       0.74      0.80      0.73    404430\n",
      "\n",
      "ROC AUC: 0.692173545375545\n"
     ]
    }
   ],
   "source": [
    "from sklearn.linear_model import LogisticRegression\n",
    "from sklearn.metrics import classification_report, roc_auc_score\n",
    "\n",
    "model = LogisticRegression(max_iter=1000)\n",
    "model.fit(X_train, y_train)\n",
    "\n",
    "y_pred = model.predict(X_test)\n",
    "y_prob = model.predict_proba(X_test)[:, 1]\n",
    "\n",
    "# Metrics\n",
    "print(classification_report(y_test, y_pred))\n",
    "print(\"ROC AUC:\", roc_auc_score(y_test, y_prob))\n"
   ]
  },
  {
   "cell_type": "markdown",
   "id": "9c9f8a9e-3f33-4c16-9c2c-62a3f8f19458",
   "metadata": {},
   "source": [
    "So, not too good. It is good at predicting nondefault but terrible at predicting defaults. This is most likely due to the inbalance in the class distribution.\n",
    "Now I will balance the class. "
   ]
  },
  {
   "cell_type": "code",
   "execution_count": 25,
   "id": "b8ac8ee4-ce9f-43ce-bbb2-bbadb4520366",
   "metadata": {},
   "outputs": [],
   "source": [
    "from imblearn.over_sampling import SMOTE\n",
    "\n",
    "smote = SMOTE(random_state=42)\n",
    "X_resampled, y_resampled = smote.fit_resample(X_train, y_train)\n"
   ]
  },
  {
   "cell_type": "code",
   "execution_count": 31,
   "id": "23277346-d584-4569-90ab-619e2d787180",
   "metadata": {},
   "outputs": [
    {
     "name": "stdout",
     "output_type": "stream",
     "text": [
      "              precision    recall  f1-score   support\n",
      "\n",
      "           0       0.87      0.66      0.75    323622\n",
      "           1       0.31      0.61      0.41     80808\n",
      "\n",
      "    accuracy                           0.65    404430\n",
      "   macro avg       0.59      0.64      0.58    404430\n",
      "weighted avg       0.76      0.65      0.68    404430\n",
      "\n",
      "ROC AUC: 0.6919548914393594\n"
     ]
    }
   ],
   "source": [
    "model = LogisticRegression(max_iter=1000)\n",
    "model.fit(X_resampled, y_resampled)\n",
    "\n",
    "y_pred = model.predict(X_test)\n",
    "y_prob = model.predict_proba(X_test)[:, 1]\n",
    "\n",
    "# Metrics\n",
    "print(classification_report(y_test, y_pred))\n",
    "print(\"ROC AUC:\", roc_auc_score(y_test, y_prob))"
   ]
  },
  {
   "cell_type": "code",
   "execution_count": 166,
   "id": "eaba9e48-fc48-4d74-b2c3-3b1e9e77be99",
   "metadata": {},
   "outputs": [],
   "source": [
    "new_features = [\n",
    "    'int_rate', 'fico_range_low', 'annual_inc', 'loan_amnt', 'dti', 'term', 'home_ownership']"
   ]
  },
  {
   "cell_type": "code",
   "execution_count": 168,
   "id": "3bb54170-875d-40b4-a030-ae4e50c8ef98",
   "metadata": {},
   "outputs": [
    {
     "name": "stdout",
     "output_type": "stream",
     "text": [
      "int_rate            0\n",
      "fico_range_low      0\n",
      "annual_inc          4\n",
      "loan_amnt           0\n",
      "dti               374\n",
      "term                0\n",
      "home_ownership      0\n",
      "dtype: int64\n"
     ]
    }
   ],
   "source": [
    "print(df[new_features].isnull().sum())"
   ]
  },
  {
   "cell_type": "code",
   "execution_count": 170,
   "id": "edcaa787-71ad-4c86-8a58-a5e5e35cb331",
   "metadata": {},
   "outputs": [],
   "source": [
    "cat_vars = ['home_ownership']\n",
    "df_encoded = pd.get_dummies(df[new_features], columns=cat_vars, drop_first=True)"
   ]
  },
  {
   "cell_type": "code",
   "execution_count": 172,
   "id": "e01ae60d-4fd1-459f-b792-d618fa1aca16",
   "metadata": {},
   "outputs": [
    {
     "name": "stdout",
     "output_type": "stream",
     "text": [
      "         int_rate  fico_range_low  annual_inc  loan_amnt    dti  term  \\\n",
      "0           13.99           675.0     55000.0     3600.0   5.91  36.0   \n",
      "1           11.99           715.0     65000.0    24700.0  16.06  36.0   \n",
      "2           10.78           695.0     63000.0    20000.0  10.78  60.0   \n",
      "3           22.45           695.0    104433.0    10400.0  25.37  60.0   \n",
      "4           13.44           690.0     34000.0    11950.0  10.20  36.0   \n",
      "...           ...             ...         ...        ...    ...   ...   \n",
      "1348094      9.49           735.0    130000.0    18000.0  20.59  60.0   \n",
      "1348095     13.99           705.0    180792.0    29400.0  22.03  60.0   \n",
      "1348096     14.49           735.0    157000.0    32000.0  10.34  60.0   \n",
      "1348097     12.79           665.0    150000.0    16000.0  12.25  60.0   \n",
      "1348098     14.49           660.0    110000.0    24000.0  18.30  60.0   \n",
      "\n",
      "         home_ownership_MORTGAGE  home_ownership_NONE  home_ownership_OTHER  \\\n",
      "0                           True                False                 False   \n",
      "1                           True                False                 False   \n",
      "2                           True                False                 False   \n",
      "3                           True                False                 False   \n",
      "4                          False                False                 False   \n",
      "...                          ...                  ...                   ...   \n",
      "1348094                    False                False                 False   \n",
      "1348095                     True                False                 False   \n",
      "1348096                     True                False                 False   \n",
      "1348097                    False                False                 False   \n",
      "1348098                    False                False                 False   \n",
      "\n",
      "         home_ownership_OWN  home_ownership_RENT  \n",
      "0                     False                False  \n",
      "1                     False                False  \n",
      "2                     False                False  \n",
      "3                     False                False  \n",
      "4                     False                 True  \n",
      "...                     ...                  ...  \n",
      "1348094                True                False  \n",
      "1348095               False                False  \n",
      "1348096               False                False  \n",
      "1348097               False                 True  \n",
      "1348098               False                 True  \n",
      "\n",
      "[1348099 rows x 11 columns]\n"
     ]
    }
   ],
   "source": [
    "print(df_encoded)"
   ]
  },
  {
   "cell_type": "code",
   "execution_count": null,
   "id": "35695946-97d3-47c1-b130-244a93abc1ae",
   "metadata": {},
   "outputs": [],
   "source": [
    "df_encoded.isnull().sum().sort_values(ascending=False).head(69)\n"
   ]
  },
  {
   "cell_type": "code",
   "execution_count": 174,
   "id": "d49ac948-cbd9-4721-a9cb-f679793f0437",
   "metadata": {},
   "outputs": [],
   "source": [
    "# For numeric columns: fill with median\n",
    "df_encoded = df_encoded.fillna(df_encoded.median(numeric_only=True))\n"
   ]
  },
  {
   "cell_type": "code",
   "execution_count": null,
   "id": "15cd2948-a5c9-48f8-ae72-b2061e03fd02",
   "metadata": {},
   "outputs": [],
   "source": []
  },
  {
   "cell_type": "code",
   "execution_count": 176,
   "id": "362df082-3acd-4297-adde-0befa68adbb5",
   "metadata": {},
   "outputs": [],
   "source": [
    "from sklearn.model_selection import train_test_split\n",
    "\n",
    "X = df_encoded\n",
    "y = df['is_default']\n",
    "\n",
    "X_train, X_test, y_train, y_test = train_test_split(\n",
    "    X, y, test_size=0.3, random_state=42, stratify=y)\n"
   ]
  },
  {
   "cell_type": "code",
   "execution_count": null,
   "id": "8a57bca7-3c6a-47f3-9f98-bcaffb0bd130",
   "metadata": {},
   "outputs": [],
   "source": []
  },
  {
   "cell_type": "code",
   "execution_count": 178,
   "id": "d18d9e85-4dd2-4e06-8aa9-f6840694b237",
   "metadata": {},
   "outputs": [],
   "source": [
    "from imblearn.over_sampling import SMOTE\n",
    "\n",
    "smote = SMOTE(random_state=42)\n",
    "X_resampled, y_resampled = smote.fit_resample(X_train, y_train)\n"
   ]
  },
  {
   "cell_type": "code",
   "execution_count": 179,
   "id": "5f082dd1-a36a-452c-b8c5-0ac6d6e5a22c",
   "metadata": {},
   "outputs": [],
   "source": [
    "from sklearn.preprocessing import StandardScaler\n",
    "\n",
    "scaler = StandardScaler()\n",
    "X_resampled_scaled = scaler.fit_transform(X_resampled)\n",
    "X_test_scaled = scaler.transform(X_test)\n"
   ]
  },
  {
   "cell_type": "markdown",
   "id": "1f854da9-c503-4e05-9616-28c448f0b1c1",
   "metadata": {},
   "source": [
    "Due to extended wait times I am including a progress bar and am sampling from the dataset"
   ]
  },
  {
   "cell_type": "code",
   "execution_count": 189,
   "id": "0348db2a-e9f3-4d2b-9c7c-eab7e0d0e71d",
   "metadata": {},
   "outputs": [
    {
     "name": "stderr",
     "output_type": "stream",
     "text": [
      "C:\\Users\\Shawn\\anaconda3\\Lib\\site-packages\\sklearn\\feature_selection\\_rfe.py:291: UserWarning: Found n_features_to_select=15 > n_features=11. There will be no feature selection and all features will be kept.\n",
      "  warnings.warn(\n"
     ]
    }
   ],
   "source": [
    "from sklearn.feature_selection import RFE\n",
    "\n",
    "selector = RFE(estimator=LogisticRegression(), n_features_to_select=15)\n",
    "X_selected = selector.fit_transform(X_resampled_scaled, y_resampled)\n"
   ]
  },
  {
   "cell_type": "code",
   "execution_count": 195,
   "id": "83695d1a-6d16-44b7-bf0f-0b2072effb20",
   "metadata": {},
   "outputs": [
    {
     "name": "stderr",
     "output_type": "stream",
     "text": [
      "Model Training Progress:   0%|                            | 0/1 [00:00<?, ?it/s]C:\\Users\\Shawn\\anaconda3\\Lib\\site-packages\\sklearn\\linear_model\\_logistic.py:469: ConvergenceWarning: lbfgs failed to converge (status=1):\n",
      "STOP: TOTAL NO. of ITERATIONS REACHED LIMIT.\n",
      "\n",
      "Increase the number of iterations (max_iter) or scale the data as shown in:\n",
      "    https://scikit-learn.org/stable/modules/preprocessing.html\n",
      "Please also refer to the documentation for alternative solver options:\n",
      "    https://scikit-learn.org/stable/modules/linear_model.html#logistic-regression\n",
      "  n_iter_i = _check_optimize_result(\n",
      "Model Training Progress:   0%|                            | 0/1 [02:33<?, ?it/s]\n"
     ]
    }
   ],
   "source": [
    "from tqdm import tqdm\n",
    "\n",
    "model = LogisticRegression(max_iter=2000, solver='lbfgs')\n",
    "\n",
    "# Enable progress tracking without restarting training at each step\n",
    "with tqdm(total=1, desc=\"Model Training Progress\", ncols=80):\n",
    "    model.fit(X_resampled, y_resampled)\n",
    "\n"
   ]
  },
  {
   "cell_type": "code",
   "execution_count": 197,
   "id": "eef3370b-020b-4ecc-9600-36611d41730c",
   "metadata": {},
   "outputs": [
    {
     "name": "stdout",
     "output_type": "stream",
     "text": [
      "              precision    recall  f1-score   support\n",
      "\n",
      "           0       0.84      0.85      0.85    323622\n",
      "           1       0.38      0.35      0.36     80808\n",
      "\n",
      "    accuracy                           0.75    404430\n",
      "   macro avg       0.61      0.60      0.61    404430\n",
      "weighted avg       0.75      0.75      0.75    404430\n",
      "\n",
      "ROC AUC: 0.6789962780510781\n"
     ]
    }
   ],
   "source": [
    "\n",
    "#model = LogisticRegression(solver=\"lbfgs\", max_iter=3000)\n",
    "#model.fit(X_resampled, y_resampled)\n",
    "\n",
    "y_pred = model.predict(X_test)\n",
    "y_prob = model.predict_proba(X_test)[:, 1]\n",
    "\n",
    "print(classification_report(y_test, y_pred))\n",
    "print(\"ROC AUC:\", roc_auc_score(y_test, y_prob))"
   ]
  },
  {
   "cell_type": "code",
   "execution_count": 203,
   "id": "9a2234eb-97d1-4891-98ba-c50f35b16b15",
   "metadata": {},
   "outputs": [
    {
     "ename": "TypeError",
     "evalue": "loop of ufunc does not support argument 0 of type float which has no callable rint method",
     "output_type": "error",
     "traceback": [
      "\u001b[1;31m---------------------------------------------------------------------------\u001b[0m",
      "\u001b[1;31mAttributeError\u001b[0m                            Traceback (most recent call last)",
      "\u001b[1;31mAttributeError\u001b[0m: 'float' object has no attribute 'rint'",
      "\nThe above exception was the direct cause of the following exception:\n",
      "\u001b[1;31mTypeError\u001b[0m                                 Traceback (most recent call last)",
      "File \u001b[1;32m~\\anaconda3\\Lib\\site-packages\\numpy\\core\\fromnumeric.py:59\u001b[0m, in \u001b[0;36m_wrapfunc\u001b[1;34m(obj, method, *args, **kwds)\u001b[0m\n\u001b[0;32m     58\u001b[0m \u001b[38;5;28;01mtry\u001b[39;00m:\n\u001b[1;32m---> 59\u001b[0m     \u001b[38;5;28;01mreturn\u001b[39;00m bound(\u001b[38;5;241m*\u001b[39margs, \u001b[38;5;241m*\u001b[39m\u001b[38;5;241m*\u001b[39mkwds)\n\u001b[0;32m     60\u001b[0m \u001b[38;5;28;01mexcept\u001b[39;00m \u001b[38;5;167;01mTypeError\u001b[39;00m:\n\u001b[0;32m     61\u001b[0m     \u001b[38;5;66;03m# A TypeError occurs if the object does have such a method in its\u001b[39;00m\n\u001b[0;32m     62\u001b[0m     \u001b[38;5;66;03m# class, but its signature is not identical to that of NumPy's. This\u001b[39;00m\n\u001b[1;32m   (...)\u001b[0m\n\u001b[0;32m     66\u001b[0m     \u001b[38;5;66;03m# Call _wrapit from within the except clause to ensure a potential\u001b[39;00m\n\u001b[0;32m     67\u001b[0m     \u001b[38;5;66;03m# exception has a traceback chain.\u001b[39;00m\n",
      "\u001b[1;31mTypeError\u001b[0m: loop of ufunc does not support argument 0 of type float which has no callable rint method",
      "\nDuring handling of the above exception, another exception occurred:\n",
      "\u001b[1;31mAttributeError\u001b[0m                            Traceback (most recent call last)",
      "\u001b[1;31mAttributeError\u001b[0m: 'float' object has no attribute 'rint'",
      "\nThe above exception was the direct cause of the following exception:\n",
      "\u001b[1;31mTypeError\u001b[0m                                 Traceback (most recent call last)",
      "Cell \u001b[1;32mIn[203], line 7\u001b[0m\n\u001b[0;32m      4\u001b[0m shap_values \u001b[38;5;241m=\u001b[39m explainer(X_test)\n\u001b[0;32m      6\u001b[0m \u001b[38;5;66;03m# Summary plot\u001b[39;00m\n\u001b[1;32m----> 7\u001b[0m shap\u001b[38;5;241m.\u001b[39mplots\u001b[38;5;241m.\u001b[39mbeeswarm(shap_values)\n",
      "File \u001b[1;32m~\\anaconda3\\Lib\\site-packages\\shap\\plots\\_beeswarm.py:399\u001b[0m, in \u001b[0;36mbeeswarm\u001b[1;34m(shap_values, max_display, order, clustering, cluster_threshold, color, axis_color, alpha, ax, show, log_scale, color_bar, s, plot_size, color_bar_label, group_remaining_features)\u001b[0m\n\u001b[0;32m    396\u001b[0m \u001b[38;5;66;03m# hspacing = (np.max(shaps) - np.min(shaps)) / 200\u001b[39;00m\n\u001b[0;32m    397\u001b[0m \u001b[38;5;66;03m# curr_bin = []\u001b[39;00m\n\u001b[0;32m    398\u001b[0m nbins \u001b[38;5;241m=\u001b[39m \u001b[38;5;241m100\u001b[39m\n\u001b[1;32m--> 399\u001b[0m quant \u001b[38;5;241m=\u001b[39m np\u001b[38;5;241m.\u001b[39mround(nbins \u001b[38;5;241m*\u001b[39m (shaps \u001b[38;5;241m-\u001b[39m np\u001b[38;5;241m.\u001b[39mmin(shaps)) \u001b[38;5;241m/\u001b[39m (np\u001b[38;5;241m.\u001b[39mmax(shaps) \u001b[38;5;241m-\u001b[39m np\u001b[38;5;241m.\u001b[39mmin(shaps) \u001b[38;5;241m+\u001b[39m \u001b[38;5;241m1e-8\u001b[39m))\n\u001b[0;32m    400\u001b[0m inds_ \u001b[38;5;241m=\u001b[39m np\u001b[38;5;241m.\u001b[39margsort(quant \u001b[38;5;241m+\u001b[39m np\u001b[38;5;241m.\u001b[39mrandom\u001b[38;5;241m.\u001b[39mrandn(N) \u001b[38;5;241m*\u001b[39m \u001b[38;5;241m1e-6\u001b[39m)\n\u001b[0;32m    401\u001b[0m layer \u001b[38;5;241m=\u001b[39m \u001b[38;5;241m0\u001b[39m\n",
      "File \u001b[1;32m~\\anaconda3\\Lib\\site-packages\\numpy\\core\\fromnumeric.py:3360\u001b[0m, in \u001b[0;36mround\u001b[1;34m(a, decimals, out)\u001b[0m\n\u001b[0;32m   3269\u001b[0m \u001b[38;5;129m@array_function_dispatch\u001b[39m(_round_dispatcher)\n\u001b[0;32m   3270\u001b[0m \u001b[38;5;28;01mdef\u001b[39;00m \u001b[38;5;21mround\u001b[39m(a, decimals\u001b[38;5;241m=\u001b[39m\u001b[38;5;241m0\u001b[39m, out\u001b[38;5;241m=\u001b[39m\u001b[38;5;28;01mNone\u001b[39;00m):\n\u001b[0;32m   3271\u001b[0m \u001b[38;5;250m    \u001b[39m\u001b[38;5;124;03m\"\"\"\u001b[39;00m\n\u001b[0;32m   3272\u001b[0m \u001b[38;5;124;03m    Evenly round to the given number of decimals.\u001b[39;00m\n\u001b[0;32m   3273\u001b[0m \n\u001b[1;32m   (...)\u001b[0m\n\u001b[0;32m   3358\u001b[0m \n\u001b[0;32m   3359\u001b[0m \u001b[38;5;124;03m    \"\"\"\u001b[39;00m\n\u001b[1;32m-> 3360\u001b[0m     \u001b[38;5;28;01mreturn\u001b[39;00m _wrapfunc(a, \u001b[38;5;124m'\u001b[39m\u001b[38;5;124mround\u001b[39m\u001b[38;5;124m'\u001b[39m, decimals\u001b[38;5;241m=\u001b[39mdecimals, out\u001b[38;5;241m=\u001b[39mout)\n",
      "File \u001b[1;32m~\\anaconda3\\Lib\\site-packages\\numpy\\core\\fromnumeric.py:68\u001b[0m, in \u001b[0;36m_wrapfunc\u001b[1;34m(obj, method, *args, **kwds)\u001b[0m\n\u001b[0;32m     59\u001b[0m     \u001b[38;5;28;01mreturn\u001b[39;00m bound(\u001b[38;5;241m*\u001b[39margs, \u001b[38;5;241m*\u001b[39m\u001b[38;5;241m*\u001b[39mkwds)\n\u001b[0;32m     60\u001b[0m \u001b[38;5;28;01mexcept\u001b[39;00m \u001b[38;5;167;01mTypeError\u001b[39;00m:\n\u001b[0;32m     61\u001b[0m     \u001b[38;5;66;03m# A TypeError occurs if the object does have such a method in its\u001b[39;00m\n\u001b[0;32m     62\u001b[0m     \u001b[38;5;66;03m# class, but its signature is not identical to that of NumPy's. This\u001b[39;00m\n\u001b[1;32m   (...)\u001b[0m\n\u001b[0;32m     66\u001b[0m     \u001b[38;5;66;03m# Call _wrapit from within the except clause to ensure a potential\u001b[39;00m\n\u001b[0;32m     67\u001b[0m     \u001b[38;5;66;03m# exception has a traceback chain.\u001b[39;00m\n\u001b[1;32m---> 68\u001b[0m     \u001b[38;5;28;01mreturn\u001b[39;00m _wrapit(obj, method, \u001b[38;5;241m*\u001b[39margs, \u001b[38;5;241m*\u001b[39m\u001b[38;5;241m*\u001b[39mkwds)\n",
      "File \u001b[1;32m~\\anaconda3\\Lib\\site-packages\\numpy\\core\\fromnumeric.py:45\u001b[0m, in \u001b[0;36m_wrapit\u001b[1;34m(obj, method, *args, **kwds)\u001b[0m\n\u001b[0;32m     43\u001b[0m \u001b[38;5;28;01mexcept\u001b[39;00m \u001b[38;5;167;01mAttributeError\u001b[39;00m:\n\u001b[0;32m     44\u001b[0m     wrap \u001b[38;5;241m=\u001b[39m \u001b[38;5;28;01mNone\u001b[39;00m\n\u001b[1;32m---> 45\u001b[0m result \u001b[38;5;241m=\u001b[39m \u001b[38;5;28mgetattr\u001b[39m(asarray(obj), method)(\u001b[38;5;241m*\u001b[39margs, \u001b[38;5;241m*\u001b[39m\u001b[38;5;241m*\u001b[39mkwds)\n\u001b[0;32m     46\u001b[0m \u001b[38;5;28;01mif\u001b[39;00m wrap:\n\u001b[0;32m     47\u001b[0m     \u001b[38;5;28;01mif\u001b[39;00m \u001b[38;5;129;01mnot\u001b[39;00m \u001b[38;5;28misinstance\u001b[39m(result, mu\u001b[38;5;241m.\u001b[39mndarray):\n",
      "\u001b[1;31mTypeError\u001b[0m: loop of ufunc does not support argument 0 of type float which has no callable rint method"
     ]
    },
    {
     "data": {
      "image/png": "[encoded data removed]",
      "text/plain": [
       "<Figure size 800x550 with 1 Axes>"
      ]
     },
     "metadata": {},
     "output_type": "display_data"
    }
   ],
   "source": [
    "import shap\n",
    "\n",
    "explainer = shap.Explainer(model, X_resampled_scaled, feature_names=X.columns)\n",
    "shap_values = explainer(X_test)\n",
    "\n",
    "# Summary plot\n",
    "shap.plots.beeswarm(shap_values)"
   ]
  },
  {
   "cell_type": "code",
   "execution_count": null,
   "id": "3a84a139-fbe1-4bcd-b2ea-c4aae5df740c",
   "metadata": {},
   "outputs": [],
   "source": []
  }
 ],
 "metadata": {
  "kernelspec": {
   "display_name": "Python [conda env:base] *",
   "language": "python",
   "name": "conda-base-py"
  },
  "language_info": {
   "codemirror_mode": {
    "name": "ipython",
    "version": 3
   },
   "file_extension": ".py",
   "mimetype": "text/x-python",
   "name": "python",
   "nbconvert_exporter": "python",
   "pygments_lexer": "ipython3",
   "version": "3.12.7"
  }
 },
 "nbformat": 4,
 "nbformat_minor": 5
}
