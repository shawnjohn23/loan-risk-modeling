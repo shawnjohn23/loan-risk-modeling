{
 "cells": [
  {
   "cell_type": "markdown",
   "metadata": {
    "jp-MarkdownHeadingCollapsed": true
   },
   "source": [
    "# Prep"
   ]
  },
  {
   "cell_type": "code",
   "execution_count": 5,
   "metadata": {},
   "outputs": [
    {
     "name": "stdout",
     "output_type": "stream",
     "text": [
      "Collecting mlxtend\n",
      "  Downloading mlxtend-0.23.4-py3-none-any.whl.metadata (7.3 kB)\n",
      "Requirement already satisfied: scipy>=1.2.1 in c:\\users\\shawn\\anaconda3\\lib\\site-packages (from mlxtend) (1.13.1)\n",
      "Requirement already satisfied: numpy>=1.16.2 in c:\\users\\shawn\\anaconda3\\lib\\site-packages (from mlxtend) (1.26.4)\n",
      "Requirement already satisfied: pandas>=0.24.2 in c:\\users\\shawn\\anaconda3\\lib\\site-packages (from mlxtend) (2.3.0)\n",
      "Requirement already satisfied: scikit-learn>=1.3.1 in c:\\users\\shawn\\anaconda3\\lib\\site-packages (from mlxtend) (1.5.1)\n",
      "Requirement already satisfied: matplotlib>=3.0.0 in c:\\users\\shawn\\anaconda3\\lib\\site-packages (from mlxtend) (3.10.3)\n",
      "Requirement already satisfied: joblib>=0.13.2 in c:\\users\\shawn\\anaconda3\\lib\\site-packages (from mlxtend) (1.4.2)\n",
      "Requirement already satisfied: contourpy>=1.0.1 in c:\\users\\shawn\\anaconda3\\lib\\site-packages (from matplotlib>=3.0.0->mlxtend) (1.2.0)\n",
      "Requirement already satisfied: cycler>=0.10 in c:\\users\\shawn\\anaconda3\\lib\\site-packages (from matplotlib>=3.0.0->mlxtend) (0.11.0)\n",
      "Requirement already satisfied: fonttools>=4.22.0 in c:\\users\\shawn\\anaconda3\\lib\\site-packages (from matplotlib>=3.0.0->mlxtend) (4.51.0)\n",
      "Requirement already satisfied: kiwisolver>=1.3.1 in c:\\users\\shawn\\anaconda3\\lib\\site-packages (from matplotlib>=3.0.0->mlxtend) (1.4.4)\n",
      "Requirement already satisfied: packaging>=20.0 in c:\\users\\shawn\\anaconda3\\lib\\site-packages (from matplotlib>=3.0.0->mlxtend) (24.1)\n",
      "Requirement already satisfied: pillow>=8 in c:\\users\\shawn\\anaconda3\\lib\\site-packages (from matplotlib>=3.0.0->mlxtend) (10.4.0)\n",
      "Requirement already satisfied: pyparsing>=2.3.1 in c:\\users\\shawn\\anaconda3\\lib\\site-packages (from matplotlib>=3.0.0->mlxtend) (3.1.2)\n",
      "Requirement already satisfied: python-dateutil>=2.7 in c:\\users\\shawn\\anaconda3\\lib\\site-packages (from matplotlib>=3.0.0->mlxtend) (2.9.0.post0)\n",
      "Requirement already satisfied: pytz>=2020.1 in c:\\users\\shawn\\anaconda3\\lib\\site-packages (from pandas>=0.24.2->mlxtend) (2024.1)\n",
      "Requirement already satisfied: tzdata>=2022.7 in c:\\users\\shawn\\anaconda3\\lib\\site-packages (from pandas>=0.24.2->mlxtend) (2023.3)\n",
      "Requirement already satisfied: threadpoolctl>=3.1.0 in c:\\users\\shawn\\anaconda3\\lib\\site-packages (from scikit-learn>=1.3.1->mlxtend) (3.5.0)\n",
      "Requirement already satisfied: six>=1.5 in c:\\users\\shawn\\anaconda3\\lib\\site-packages (from python-dateutil>=2.7->matplotlib>=3.0.0->mlxtend) (1.16.0)\n",
      "Downloading mlxtend-0.23.4-py3-none-any.whl (1.4 MB)\n",
      "   ---------------------------------------- 0.0/1.4 MB ? eta -:--:--\n",
      "   ---------------------------------------- 1.4/1.4 MB 34.1 MB/s eta 0:00:00\n",
      "Installing collected packages: mlxtend\n",
      "Successfully installed mlxtend-0.23.4\n",
      "Note: you may need to restart the kernel to use updated packages.\n"
     ]
    }
   ],
   "source": [
    "pip install mlxtend"
   ]
  },
  {
   "cell_type": "code",
   "execution_count": 7,
   "metadata": {
    "id": "cwMLHWrXlBOE"
   },
   "outputs": [],
   "source": [
    "#import requuired libraries\n",
    "import pandas as pd\n",
    "import numpy as np\n",
    "import sys\n",
    "import joblib\n",
    "sys.modules['sklearn.externals.joblib'] = joblib\n",
    "from mlxtend.feature_selection import SequentialFeatureSelector as SFS\n",
    "from sklearn.ensemble import RandomForestClassifier\n",
    "from sklearn.model_selection import GridSearchCV , train_test_split\n",
    "from sklearn.metrics import accuracy_score, confusion_matrix, classification_report, f1_score, roc_auc_score, recall_score\n",
    "import matplotlib.pyplot as plt\n",
    "import seaborn as sns\n",
    "import warnings\n",
    "warnings.filterwarnings('ignore')"
   ]
  },
  {
   "cell_type": "code",
   "execution_count": 9,
   "metadata": {
    "id": "lBa7fhPxlK5q"
   },
   "outputs": [],
   "source": [
    "data = 'UpsampledDataset.csv'\n",
    "upsampled = pd.read_csv(data)"
   ]
  },
  {
   "cell_type": "code",
   "execution_count": 11,
   "metadata": {
    "id": "fksek-4elK8_"
   },
   "outputs": [],
   "source": [
    "X = upsampled.drop('is_default', axis=1)\n",
    "y = upsampled['is_default']"
   ]
  },
  {
   "cell_type": "code",
   "execution_count": 13,
   "metadata": {
    "id": "braAH37vlLBq"
   },
   "outputs": [],
   "source": [
    "X_train, X_test, y_train, y_test = train_test_split(X, y, test_size=0.2, random_state=42)"
   ]
  },
  {
   "cell_type": "markdown",
   "metadata": {
    "id": "ACbahNqFz2gj",
    "jp-MarkdownHeadingCollapsed": true
   },
   "source": [
    "# Random Forest Model using bi directional elimination"
   ]
  },
  {
   "cell_type": "code",
   "execution_count": null,
   "metadata": {
    "colab": {
     "base_uri": "https://localhost:8080/"
    },
    "id": "goSWcmcYlvQd",
    "outputId": "e9498b96-0b51-48c7-b617-7706653aadc1"
   },
   "outputs": [
    {
     "name": "stdout",
     "output_type": "stream",
     "text": [
      "Accuracy with all features: 0.9999146245059288\n"
     ]
    }
   ],
   "source": [
    "from sklearn.feature_selection import RFE\n",
    "rf_model = RandomForestClassifier(random_state=42)\n",
    "\n",
    "# Fit the Random Forest model on the training data\n",
    "rf_model.fit(X_train, y_train)\n",
    "\n",
    "# Evaluate the initial model\n",
    "y_pred_initial = rf_model.predict(X_test)\n",
    "accuracy_initial = accuracy_score(y_test, y_pred_initial)\n",
    "print(f'Accuracy with all features: {accuracy_initial}')\n",
    "\n",
    "# Use Recursive Feature Elimination (RFE) for backward elimination\n",
    "# Choose the number of features to keep\n",
    "n_features_to_keep = 5\n",
    "\n",
    "rfe = RFE(estimator=rf_model, n_features_to_select=n_features_to_keep)\n",
    "X_train_rfe = rfe.fit_transform(X_train, y_train)\n",
    "X_test_rfe = rfe.transform(X_test)\n",
    "\n",
    "# Print the selected features\n",
    "selected_features = X_train.columns[rfe.support_]\n",
    "print(f'Selected Features: {selected_features.tolist()}')\n",
    "\n",
    "# Fit the Random Forest model on the reduced feature set\n",
    "rf_model.fit(X_train_rfe, y_train)\n",
    "\n",
    "# Evaluate the model after backward elimination\n",
    "y_pred_after_elimination = rf_model.predict(X_test_rfe)\n",
    "accuracy_after_elimination = accuracy_score(y_test, y_pred_after_elimination)\n",
    "print(f'Accuracy after backward elimination: {accuracy_after_elimination}')"
   ]
  },
  {
   "cell_type": "code",
   "execution_count": null,
   "metadata": {
    "colab": {
     "base_uri": "https://localhost:8080/"
    },
    "id": "Umn9daFNVZwQ",
    "outputId": "6e88ae6c-afe1-46c8-9bdf-2695e35145ec"
   },
   "outputs": [
    {
     "name": "stdout",
     "output_type": "stream",
     "text": [
      "\n",
      "RFC Classification Report:\n",
      "               precision    recall  f1-score   support\n",
      "\n",
      "           0       1.00      1.00      1.00      1942\n",
      "           1       1.00      1.00      1.00      1923\n",
      "\n",
      "    accuracy                           1.00      3865\n",
      "   macro avg       1.00      1.00      1.00      3865\n",
      "weighted avg       1.00      1.00      1.00      3865\n",
      "\n",
      "\n",
      "RFC Classification Report:\n",
      "               precision    recall  f1-score   support\n",
      "\n",
      "           0       1.00      1.00      1.00      1942\n",
      "           1       1.00      1.00      1.00      1923\n",
      "\n",
      "    accuracy                           1.00      3865\n",
      "   macro avg       1.00      1.00      1.00      3865\n",
      "weighted avg       1.00      1.00      1.00      3865\n",
      "\n"
     ]
    }
   ],
   "source": [
    "print(\"\\nRFC Classification Report:\\n\", classification_report(y_test, y_pred_initial))\n",
    "print(\"\\nRFC Classification Report:\\n\", classification_report(y_test, y_pred_after_elimination))"
   ]
  },
  {
   "cell_type": "code",
   "execution_count": null,
   "metadata": {
    "colab": {
     "base_uri": "https://localhost:8080/",
     "height": 570
    },
    "id": "EAhzZiQmlvTT",
    "outputId": "72546e51-ad25-4ece-d588-e71fe5579095"
   },
   "outputs": [
    {
     "data": {
      "image/png": "[encoded data removed]",
      "text/plain": [
       "<Figure size 800x600 with 2 Axes>"
      ]
     },
     "metadata": {},
     "output_type": "display_data"
    }
   ],
   "source": [
    "from sklearn.metrics import confusion_matrix\n",
    "cm = confusion_matrix(y_test, y_pred_after_elimination)\n",
    "\n",
    "plt.figure(figsize = (8,6))\n",
    "\n",
    "sns.heatmap(cm,\n",
    "            annot=True,\n",
    "            cmap=\"Spectral\", fmt = \"g\")\n",
    "plt.title(\"RFC Confusion Matrix\")\n",
    "plt.xlabel('Predicted', fontsize=15)\n",
    "plt.ylabel('Actual/Observed', fontsize=15);"
   ]
  },
  {
   "cell_type": "markdown",
   "metadata": {
    "id": "C6Jzxzx70COd"
   },
   "source": [
    "#KNN using bi directional elimination"
   ]
  },
  {
   "cell_type": "code",
   "execution_count": null,
   "metadata": {
    "id": "Gq2hOvGLlvWN"
   },
   "outputs": [],
   "source": [
    "from sklearn.neighbors import KNeighborsClassifier\n",
    "from mlxtend.feature_selection import SequentialFeatureSelector\n",
    "knn_model = KNeighborsClassifier()\n",
    "\n",
    "# Number of features to select\n",
    "n_features_to_select = 5  # Adjust this based on your preference or after experimentation\n",
    "\n",
    "# Forward feature selection\n",
    "sfs = SequentialFeatureSelector(knn_model,\n",
    "                                 k_features=n_features_to_select,\n",
    "                                 forward=True,\n",
    "                                 floating=False,\n",
    "                                 verbose=2,\n",
    "                                 scoring='accuracy',\n",
    "                                 cv=5)"
   ]
  },
  {
   "cell_type": "code",
   "execution_count": null,
   "metadata": {
    "colab": {
     "base_uri": "https://localhost:8080/"
    },
    "id": "WIeEhezAlvZu",
    "outputId": "d2ae87b5-f2a6-4916-f0f2-4423ff4e41ea"
   },
   "outputs": [
    {
     "name": "stderr",
     "output_type": "stream",
     "text": [
      "\n",
      "[2023-12-01 23:52:54] Features: 1/5 -- score: 0.9342041515178021\n",
      "[2023-12-01 23:53:04] Features: 2/5 -- score: 0.9685581559449605\n",
      "[2023-12-01 23:53:13] Features: 3/5 -- score: 0.9713398201932497\n",
      "[2023-12-01 23:53:20] Features: 4/5 -- score: 0.9714045241725445\n",
      "[2023-12-01 23:53:28] Features: 5/5 -- score: 0.9714692281518392"
     ]
    },
    {
     "name": "stdout",
     "output_type": "stream",
     "text": [
      "\n",
      "Selected Wrapper Features: ['UDI', 'Torque [Nm]', 'Tool wear [min]', 'HDF', 'PWF']\n",
      "\n",
      "Accuracy with selected features using KNN: 0.9759379042690814\n"
     ]
    }
   ],
   "source": [
    "sfs.fit(X_train, y_train)\n",
    "\n",
    "# Get the selected feature indices\n",
    "selected_feature_indices = sfs.k_feature_idx_\n",
    "# Print the selected wrapper features\n",
    "selected_features = X_train.columns[list(selected_feature_indices)]\n",
    "print(f'\\nSelected Wrapper Features: {selected_features.tolist()}')\n",
    "\n",
    "# Extract the selected features from the training and testing data\n",
    "X_train_selected = X_train.iloc[:, list(selected_feature_indices)]\n",
    "X_test_selected = X_test.iloc[:, list(selected_feature_indices)]\n",
    "\n",
    "# Fit KNN on the selected features\n",
    "knn_model.fit(X_train_selected, y_train)\n",
    "\n",
    "# Predict using the trained KNN model\n",
    "y_pred_knn = knn_model.predict(X_test_selected)\n",
    "\n",
    "# Evaluate the accuracy\n",
    "accuracy_knn = accuracy_score(y_test, y_pred_knn)\n",
    "print(f'\\nAccuracy with selected features using KNN: {accuracy_knn}')"
   ]
  },
  {
   "cell_type": "code",
   "execution_count": null,
   "metadata": {
    "colab": {
     "base_uri": "https://localhost:8080/",
     "height": 570
    },
    "id": "boY1xMDtqw5C",
    "outputId": "b0d936a1-9026-4d26-df2f-58ef4a64ec7f"
   },
   "outputs": [
    {
     "data": {
      "image/png": "[encoded data removed]",
      "text/plain": [
       "<Figure size 800x600 with 2 Axes>"
      ]
     },
     "metadata": {},
     "output_type": "display_data"
    }
   ],
   "source": [
    "from sklearn.metrics import confusion_matrix\n",
    "cm = confusion_matrix(y_test, y_pred_knn)\n",
    "\n",
    "plt.figure(figsize = (8,6))\n",
    "\n",
    "sns.heatmap(cm,\n",
    "            annot=True,\n",
    "            cmap=\"Spectral\", fmt = \"g\")\n",
    "plt.title(\"RFC Confusion Matrix\")\n",
    "plt.xlabel('Predicted', fontsize=15)\n",
    "plt.ylabel('Actual/Observed', fontsize=15);"
   ]
  },
  {
   "cell_type": "code",
   "execution_count": null,
   "metadata": {
    "id": "7Cv7Ir_lqw8h"
   },
   "outputs": [],
   "source": []
  }
 ],
 "metadata": {
  "colab": {
   "provenance": []
  },
  "kernelspec": {
   "display_name": "Python [conda env:base] *",
   "language": "python",
   "name": "conda-base-py"
  },
  "language_info": {
   "codemirror_mode": {
    "name": "ipython",
    "version": 3
   },
   "file_extension": ".py",
   "mimetype": "text/x-python",
   "name": "python",
   "nbconvert_exporter": "python",
   "pygments_lexer": "ipython3",
   "version": "3.12.7"
  }
 },
 "nbformat": 4,
 "nbformat_minor": 4
}
